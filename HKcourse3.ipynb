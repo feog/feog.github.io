{
 "cells": [
  {
   "cell_type": "code",
   "execution_count": null,
   "metadata": {
    "collapsed": true,
    "slideshow": {
     "slide_type": "notes"
    }
   },
   "outputs": [],
   "source": [
    "jupyter nbconvert HKcourse3.ipynb --to slides --post serve "
   ]
  },
  {
   "cell_type": "markdown",
   "metadata": {
    "slideshow": {
     "slide_type": "slide"
    }
   },
   "source": [
    "# Some Facets of Information Theoretical Graph Analytics\n",
    "\n",
    "F. Oggier (School of Physical and Mathematical Sciences, NTU, Singapore) \n",
    "\n",
    "CSCIT 2019, CUHK"
   ]
  },
  {
   "cell_type": "markdown",
   "metadata": {
    "slideshow": {
     "slide_type": "slide"
    }
   },
   "source": [
    "###  Centralities and Entropic Centralities\n",
    "\n",
    "### Random Graphs and Power Law\n",
    "\n",
    "### Information Theoretic Clustering\n",
    "\n",
    "### A Case Study: Bitcoin Forensics"
   ]
  },
  {
   "cell_type": "markdown",
   "metadata": {
    "slideshow": {
     "slide_type": "slide"
    }
   },
   "source": [
    "## Information Theoretic Clustering\n",
    "### General Data"
   ]
  },
  {
   "cell_type": "code",
   "execution_count": 8,
   "metadata": {
    "slideshow": {
     "slide_type": "slide"
    }
   },
   "outputs": [
    {
     "data": {
      "image/png": "[encoded data removed]",
      "text/plain": [
       "<Figure size 216x216 with 1 Axes>"
      ]
     },
     "metadata": {
      "needs_background": "light"
     },
     "output_type": "display_data"
    }
   ],
   "source": [
    "import numpy as np\n",
    "import matplotlib.pylab as plt\n",
    "\n",
    "pts = np.random.normal(size=(200, 2))\n",
    "trans = [[2,2] for i in range(50)]\n",
    "trans.extend([[2,-2] for i in range(50)])\n",
    "trans.extend([[-2,2] for i in range(50)])\n",
    "trans.extend([[-2,-2] for i in range(50)])\n",
    "data = pts + np.array(trans)\n",
    "\n",
    "fig = plt.figure(figsize=(3,3))\n",
    "plt.plot(data[:,0],data[:,1],'*b')\n",
    "plt.gca().set_aspect('equal', adjustable='box')\n",
    "plt.show()"
   ]
  },
  {
   "cell_type": "markdown",
   "metadata": {
    "slideshow": {
     "slide_type": "fragment"
    }
   },
   "source": [
    "How to group data points into clusters such that points in a cluster are more *similar* to each other than to those in other clusters?"
   ]
  },
  {
   "cell_type": "markdown",
   "metadata": {
    "slideshow": {
     "slide_type": "slide"
    }
   },
   "source": [
    "Suppose you want to transmit points from this dataset, using only two bits per point (lossy transmission).\n",
    "\n",
    "What encoder/decoder will lose the least information, given that the loss is the sum squared error between decoded coordinates and original ones?\n",
    "\n",
    "* Idea 1: break the grid into 4 quarters, label the center of each quarter (00,01,10,11)\n",
    "* Idea 2: break the grid into 4 quarters, label the centroid of each quarter (00,01,10,11)\n",
    "\n",
    "Idea 2 leads to $k$-means (A. Moore slides on clustering)."
   ]
  },
  {
   "cell_type": "code",
   "execution_count": 9,
   "metadata": {
    "slideshow": {
     "slide_type": "slide"
    }
   },
   "outputs": [
    {
     "data": {
      "image/png": "[encoded data removed]",
      "text/plain": [
       "<Figure size 216x216 with 1 Axes>"
      ]
     },
     "metadata": {
      "needs_background": "light"
     },
     "output_type": "display_data"
    }
   ],
   "source": [
    "fig = plt.figure(figsize=(3,3))\n",
    "plt.plot(data[:,0],data[:,1],'*b')\n",
    "plt.gca().set_aspect('equal', adjustable='box')\n",
    "plt.show()"
   ]
  },
  {
   "cell_type": "markdown",
   "metadata": {
    "slideshow": {
     "slide_type": "fragment"
    }
   },
   "source": [
    "**k-means** clustering: \n",
    "<div style=\"background-color:rgba(128, 0, 0, 0.1); text-align:left; vertical-align: middle; padding:20px 0;\">\n",
    "<ol>\n",
    "<li> Choose how many clusters. ($k=4$) </li>     \n",
    "<li> Randomly guess $k$ cluster centers. </li> \n",
    "<li> Each datapoint finds out its closest center. </li> \n",
    "<li> Update each center to the centroid of its points. </li>\n",
    "<li> Repeat (from 3.) until terminated. </li>\n",
    "</ol>\n",
    "</div>"
   ]
  },
  {
   "cell_type": "code",
   "execution_count": 10,
   "metadata": {
    "slideshow": {
     "slide_type": "slide"
    }
   },
   "outputs": [
    {
     "data": {
      "image/png": "[encoded data removed]",
      "text/plain": [
       "<Figure size 432x288 with 1 Axes>"
      ]
     },
     "metadata": {
      "needs_background": "light"
     },
     "output_type": "display_data"
    }
   ],
   "source": [
    "from sklearn.cluster import KMeans\n",
    "import numpy as np\n",
    "\n",
    "kmeans = KMeans(n_clusters=4, random_state=0).fit(data)\n",
    "labels = kmeans.labels_\n",
    "d0 = data[np.where(labels == 0),:][0]\n",
    "d1 = data[np.where(labels == 1),:][0]\n",
    "d2 = data[np.where(labels == 2),:][0]\n",
    "d3 = data[np.where(labels == 3),:][0]\n",
    "plt.plot(d0[:,0],d0[:,1],'*',d1[:,0],d1[:,1],'*',d2[:,0],d2[:,1],'*',d3[:,0],d3[:,1],'*')\n",
    "plt.gca().set_aspect('equal', adjustable='box')\n",
    "plt.show()"
   ]
  },
  {
   "cell_type": "markdown",
   "metadata": {
    "slideshow": {
     "slide_type": "slide"
    }
   },
   "source": [
    "ENCODE: $\\mathbb{R}^m \\rightarrow [1,...,k]$, ${\\bf x}\\mapsto i$  \n",
    "DECODE :$[1,...,k] \\rightarrow \\mathbb{R}^m$, $i \\mapsto {\\bf c}$    \n",
    "Distorsion = $\\sum_i ({\\bf x}_i -{\\bf c}_{{\\rm ENCODE}({\\bf x}_i)})^2$\n",
    "\n",
    "How to choose the centers ${\\bf c}_1,\\ldots,{\\bf c}_k$ so that the distorsion is minimized?"
   ]
  },
  {
   "cell_type": "markdown",
   "metadata": {
    "slideshow": {
     "slide_type": "fragment"
    }
   },
   "source": [
    "Points must be encoded to the nearest center (otherwise using the nearest center would minimize the distorsion):\n",
    "${\\bf c}_{{\\rm ENCODE}({\\bf x}_i)} = \\arg\\min_{{\\bf c}_1,\\ldots,{\\bf c}_k} ({\\bf x}_i -{\\bf c}_j)^2$\n",
    "\n",
    "$\\frac{\\partial {\\rm Distorsion}}{\\partial {\\bf c}_l} = \\frac{\\partial}{\\partial {\\bf c}_l} \\sum_{j=1}^k \\sum_{{\\bf x}_i \\mbox{with center }{\\bf c}_j}({\\bf x}_i -{\\bf c}_j)^2= -2 \\sum_{{\\bf x}_i \\mbox{with center }{\\bf c}_j}({\\bf x}_i -{\\bf c}_j)$, thus at the minimum: \n",
    "${\\bf c}_j = \\frac{1}{|{\\bf x}_i \\mbox{with center }{\\bf c}_j|}\\sum_{{\\bf x}_i \\mbox{with center }{\\bf c}_j}$. \n",
    "\n",
    "Thus each center must be the centroid of its own points."
   ]
  },
  {
   "cell_type": "markdown",
   "metadata": {
    "slideshow": {
     "slide_type": "slide"
    }
   },
   "source": [
    "The procedure stops when there is no change in configuration: there is a finite number of configurations, and the configuration changes only if it reduces the distorsion, meaning a new configuration not encountered before, so it cannot continue forever (eventually we run out of configurations).\n",
    "\n",
    "No guarantee of finding the optimal configuration.\n",
    "\n",
    "How do we choose the initial centers?\n",
    "\n",
    "How do we know how many clusters we want?\n"
   ]
  },
  {
   "cell_type": "markdown",
   "metadata": {
    "slideshow": {
     "slide_type": "slide"
    }
   },
   "source": [
    "**Hierarchical clustering (single linkage)**\n",
    "\n",
    "<div style=\"background-color:rgba(128, 0, 0, 0.1); text-align:left; vertical-align: middle; padding:20px 0;\">\n",
    "<ol>\n",
    "<li> Every point is its own cluster. </li> \n",
    "<li> Find most similar pair of clusters.</li>   \n",
    "<li> Merge it into a parent cluster.</li>\n",
    "</ol>\n",
    "</div>\n",
    "\n",
    "May also start with existing clusters."
   ]
  },
  {
   "cell_type": "code",
   "execution_count": 39,
   "metadata": {
    "slideshow": {
     "slide_type": "slide"
    }
   },
   "outputs": [
    {
     "data": {
      "image/png": "[encoded data removed]",
      "text/plain": [
       "<Figure size 432x288 with 2 Axes>"
      ]
     },
     "metadata": {
      "needs_background": "light"
     },
     "output_type": "display_data"
    }
   ],
   "source": [
    "from scipy.cluster.hierarchy import dendrogram, linkage\n",
    "\n",
    "smalldata = np.array([[0,0.2],[0.1,0.4],[0.6,0.5],[0.7,0.7]])\n",
    "\n",
    "linked = linkage(smalldata, 'single')\n",
    "labelList = range(1,5)\n",
    "\n",
    "fig = plt.figure(figsize=(6,4))\n",
    "plt.subplot(1, 2, 1)\n",
    "plt.plot(smalldata[:,0],smalldata[:,1],'*b')\n",
    "plt.gca().set_aspect('equal', adjustable='box')\n",
    "\n",
    "plt.subplot(1, 2, 2)\n",
    "dendrogram(linked,orientation='top',labels=labelList,distance_sort='descending',show_leaf_counts=True)\n",
    "plt.show()"
   ]
  },
  {
   "cell_type": "markdown",
   "metadata": {
    "slideshow": {
     "slide_type": "slide"
    }
   },
   "source": [
    "Points to be clustered are realizations of some probability distributions, if we see each cluster as coming from some probability distribution, then we are looking at distances among distributions (Hartigan 75).\n",
    "\n",
    "Kullback-Leibler distance: $D_{KL}(p,q)=\\int p(x)log(p(x)/q(x))d(x)$\n",
    "\n",
    "Bhattacharyya distance: $D_B(p,q)=-\\ln\\int\\sqrt{p(x)q(x)}dx$\n",
    "\n",
    "Renyi distance: $D_R(p,q)=\\frac{1}{\\alpha-1}\\ln \\int f(x)^\\alpha g(x)^{1-\\alpha} dx$, $\\alpha >0$, $\\alpha \\neq 1$."
   ]
  },
  {
   "cell_type": "markdown",
   "metadata": {
    "slideshow": {
     "slide_type": "slide"
    }
   },
   "source": [
    "Problem: the distributions are unknown, how to compute the above quantities without knowing the distributions? we need to (nonparametrically) estimate them (entropy estimation is a topic of its own). \n",
    "\n",
    "One solution (Gokcay 02): use Renyi entropy $H_2(p) = -\\ln \\int p^2({\\bf x})d{\\bf x}$.\n"
   ]
  },
  {
   "cell_type": "markdown",
   "metadata": {
    "slideshow": {
     "slide_type": "slide"
    }
   },
   "source": [
    "For $p({\\bf x})$ given by $N$ of its samples, $P = \\int_{\\mathcal{R}}p({\\bf x})d{\\bf x}$ is the probability that a vector with pdf $p({\\bf x})$ falls in $\\mathcal{R}$. If $\\mathcal{R}$ is small enough that $p({\\bf x})$ varies little within it, $P$ can be approximated by $P \\approx p({\\bf x})\\int_{\\mathcal{R}}d{\\bf x}$, where $\\int_{\\mathcal{R}}d{\\bf x}$ is the volume of $\\mathcal{R}$. \n",
    "\n",
    "Given $N$ samples ${\\bf x}_1,\\ldots,{\\bf x}_N$ in $\\mathbb{R}^d$ which are independently drawn according to $p({\\bf x})$, say there are $k$ out of the $N$ samples falling with $\\mathcal{R}$, then $P =\\tfrac{k}{N}$ and $\\hat{p}({\\bf x}) = \\frac{k/N}{\\int_{\\mathcal{R}}d{\\bf x}}$.\n",
    "\n",
    "If $\\mathcal{R}$ is a hypercube with edge length $h$ centered at ${\\bf x}$, then $\\int_{\\mathcal{R}}d{\\bf x}=h^d$, and the following window function $W$ indicates whether ${\\bf x}_i$ is inside $\\mathcal{R}$:\n",
    "$\n",
    "W_h({\\bf x}_i-{\\bf x}) = \\left\\{\n",
    "\\begin{array}{ll}\n",
    "1 &\\mbox{ if }\\tfrac{|x_j-x_{ij}|}{h} \\leq \\tfrac{1}{2},~j=1,\\ldots,d\\\\\n",
    "0 &\\mbox{ else.}\n",
    "\\end{array}\n",
    "\\right.\n",
    "$\n",
    "The total number $k$ of samples falling in $\\mathcal{R}$ is thus given by\n",
    "$k = \\sum_{i=1}^N W_h({\\bf x}-{\\bf x}_i)$ and the **Parzen window estimator** (Parzen 62) is given by $\\hat{p}({\\bf x}) = \\frac{1}{N}\\sum_{i=1}^N \\frac{1}{h^d} W_{h}({\\bf x}-{\\bf x}_i)$."
   ]
  },
  {
   "cell_type": "markdown",
   "metadata": {
    "slideshow": {
     "slide_type": "slide"
    }
   },
   "source": [
    "The window function $W_h$ can be replaced by a symmetric multivariate probability density function, called *kernel function*.\n",
    "\n",
    "A typical choice for the window or kernel function $W_h$ is the Gaussian function given by $W_{\\sigma}({\\bf x}-{\\bf x}_i)=\\frac{1}{\\sqrt{2\\pi^d}}\\exp\\left(-\\frac{1}{2\\sigma^2}||{\\bf x}-{\\bf x}_i ||^2\\right)$, where  $\\Sigma$ is the covariance matrix, and $h=\\sigma$ is a scale parameter. If $\\Sigma=\\sigma^2{\\bf I}_d$ (simplest case), we get\n",
    "\n",
    "$\\hat{p}({\\bf x}) \n",
    "=\\frac{1}{N}\\sum_{i=1}^N \\frac{1}{\\sigma^d} W_{h}({\\bf x}-{\\bf x}_i)=\\frac{1}{N}\\sum_{i=1}^N\\frac{1}{\\sigma^d\\sqrt{2\\pi^d}}\\exp\\left(-\\frac{1}{2\\sigma^2}||{\\bf x}-{\\bf x}_i ||^2\\right).\n",
    "$"
   ]
  },
  {
   "cell_type": "markdown",
   "metadata": {
    "slideshow": {
     "slide_type": "fragment"
    }
   },
   "source": [
    "The quadratic Renyi entropy of a vector ${\\bf x}\\in\\mathbb{R}^d$ is defined by \n",
    "$\n",
    "H_2(p) = -\\ln \\int p^2({\\bf x})d{\\bf x}\n",
    "$\n",
    "where $p({\\bf x})$ is the pdf of ${\\bf x}$. When the pdf $p({\\bf x})$ is unknown, but samples are available, $p({\\bf x})$ can be replaced by a sample-based estimator, to obtain an estimator of $H_2(p)$:\n",
    "$\n",
    "\\hat{H}_2(p) = -\\ln \\int \\frac{1}{N^2}\\sum_{i,j=1}^N\\frac{1}{\\sigma^d\\sqrt{2\\pi^d}}\\exp\\left(-\\frac{||{\\bf x}-{\\bf x}_i ||^2}{2\\sigma^2}\\right)\n",
    "\\frac{1}{\\sigma^d\\sqrt{2\\pi^d}}\\exp\\left(-\\frac{||{\\bf x}-{\\bf x}_j||^2}{2\\sigma^2}\\right).\n",
    "$\n",
    "\n",
    "The product of two such Gaussian distributions is known:\n",
    "$\\hat{H}_2(p) = \\hat{H}_{2,\\sigma^2}(p)\n",
    "=-\\ln \\frac{1}{N^2}\\sum_{i,j=1}^N \\tfrac{1}{(2\\sigma)^d\\sqrt{(2\\pi)^d}}\\exp(-\\tfrac{||{\\bf x}_i-{\\bf x}_j ||^2}{4\\sigma^2}),\n",
    "$\n",
    "a **within-cluster** entropy."
   ]
  },
  {
   "cell_type": "markdown",
   "metadata": {
    "slideshow": {
     "slide_type": "slide"
    }
   },
   "source": [
    "For two different clusters ($p_1({\\bf x}),p_2({\\bf x})$ are associated to each cluster resp.), we get a **between-cluster** entropy\n",
    "$\n",
    "D_{\\sigma^2}(\\hat{p}_1,\\hat{p}_2) = -\\ln \\frac{1}{N_1N_2}\\sum_{i=1}^{N_1}\\sum_{j=1}^{N_2}\n",
    "\\tfrac{1}{(2\\sigma)^d\\sqrt{(2\\pi)^d}}\\exp(-\\tfrac{||{\\bf x}_i-{\\bf x}_j ||^2}{4\\sigma^2})\n",
    "$\n",
    "as an evaluation function that estimates the distance between two clusters. \n",
    "This also gives an estimator of the \"cross Renyi entropy\" $-\\ln\\int p_1({\\bf x})p_2({\\bf x})d{\\bf x}$.\n",
    "\n",
    "In the case of $C$ clusters with respective pdfs $p_1,\\ldots,p_C$, we get\n",
    "$\n",
    "D_{\\sigma^2}(\\hat{p}_1,\\ldots,\\hat{p}_C) = -\\ln \\frac{1}{N^2}\\sum_{i,j=1}^{N}\n",
    "\\tfrac{\\delta_{ij}}{(2\\sigma)^d\\sqrt{(2\\pi)^d}}\\exp(-\\tfrac{||{\\bf x}_i-{\\bf x}_j ||^2}{4\\sigma^2})\n",
    "$\n",
    "where $\\delta_{ij}=0$ if both ${\\bf x}_i$ and ${\\bf x}_j$ belong to the same cluster and 1 otherwise. This function tries to globally separate the $C$ clusters from each others."
   ]
  },
  {
   "cell_type": "markdown",
   "metadata": {
    "slideshow": {
     "slide_type": "slide"
    }
   },
   "source": [
    "<img src=\"c1.png\" width=200 height=200>\n",
    "<img src=\"c2.png\" width=200 height=200>"
   ]
  },
  {
   "cell_type": "markdown",
   "metadata": {
    "slideshow": {
     "slide_type": "fragment"
    }
   },
   "source": [
    "Motivation was image processing (Gokcay 02).\n",
    "\n",
    "We still have to figure out how many clusters we want.\n",
    "\n",
    "We also need to choose the bandwith parameter $\\sigma$ (also a topic of study).\n",
    "\n",
    "And also the search algorithm.\n"
   ]
  },
  {
   "cell_type": "markdown",
   "metadata": {
    "slideshow": {
     "slide_type": "slide"
    }
   },
   "source": [
    "$k(x,y)=exp\\left(-\\frac{||x-y||^2}{\\sigma^2}\\right)$ is a **Gaussian kernel**, which is positive definite.\n",
    "\n",
    "In operator theory, a symmetric function $k: \\mathcal{X}\\times\\mathcal{X} \\rightarrow \\mathbb{R}$ for $X$ a non-empty set is a positive definite kernel if $\\sum_{i,j=1}^n c_ic_j k(x,y) \\geq 0$ for all $n\\in\\mathbb{N},c_i \\in \\mathbb{R},x,y \\in\\mathcal{X}$.  \n",
    "\n",
    "Kernel methods form a class of algorithms used in machine learning for pattern analysis, which relies on a kernel function to compute the similarity between pairs of data points. \n",
    "\n",
    "Gausian kernels have been very well studied (and liked) in the machine learning literature."
   ]
  },
  {
   "cell_type": "markdown",
   "metadata": {
    "slideshow": {
     "slide_type": "slide"
    }
   },
   "source": [
    "What about mutual information? $I(X;Y)=H(X)-H(X|Y)$\n",
    "\n",
    "* Faivishevsky and Goldberger. A non parametric information theoretic clustering algorithm, 2010.\n",
    "\n",
    "* Sugiyama, Yamada, Kimura, and Hachiya.  Information-maximization clustering based on squared-loss mutual information, 2011.\n",
    "\n",
    "* Wang and Sha. Information theoretical clustering via semidefinite programming, 2011.\n",
    "\n",
    "Assign  cluster labels to data points such that the mutual information between data and labels is maximized."
   ]
  },
  {
   "cell_type": "markdown",
   "metadata": {
    "slideshow": {
     "slide_type": "slide"
    }
   },
   "source": [
    "(Ver Steer 14)\n",
    "\n",
    "$I(X;Y)=H(X)-H(X|Y)$\n",
    "\n",
    "$H(X) = E[\\log(1/p({\\bf x}))] \\approx \\frac{1}{N}\\sum_{i=1}^N \\log(1/p({\\bf x}_i)) \\approx \\frac{1}{N}\\sum_{i=1}^N \\frac{\\epsilon^d_{i,k}}{k/N}$\n",
    "\n",
    "Make the smallest box containing $k$ neighbours ($\\epsilon^d_{i,k}$ denotes the distance to the $k$th nearest neighbour  of ${\\bf x}_i$ according to the max norm: for $x$ a vector, its max norm is the max over $|x_i|$).\n",
    "\n",
    "So we have an estimator $\\hat{H}$ (Kozachenko-Leonenko entropy estimator):\n",
    "$\\hat{H}(X) = \\log(N/k) + \\frac{d}{N}\\sum_{i=1}^N\\log (\\epsilon_{i,k})+c_{k,N}$."
   ]
  },
  {
   "cell_type": "markdown",
   "metadata": {
    "slideshow": {
     "slide_type": "slide"
    }
   },
   "source": [
    "3 principles that define Shannon entropy ($H(p_1,\\ldots,p_n)=-\\sum_{i=1}^n p_i\\log p_i$):\n",
    "\n",
    "1. continuity: a small change in $p_j$ does not cause a large change in uncertainty.\n",
    "2. uncertainty  should  grow  with $n$ if there are $n$ equally likely events.\n",
    "3. recursivity: $H(p_1,p_2,p_3) = H(p_1,p_2+p_3)+(p_2+p_3)H(p_2/(p_2+p_3),p_3/(p_2+p_3))$\n",
    "\n",
    "An estimator of $H$ should satisfy the same basic principles."
   ]
  },
  {
   "cell_type": "markdown",
   "metadata": {
    "slideshow": {
     "slide_type": "slide"
    }
   },
   "source": [
    "$H(p_1,p_2,p_3) = H(p_1,p_2+p_3)+(p_2+p_3)H(p_2/(p_2+p_3),p_3/(p_2+p_3))$\n",
    "\n",
    "Also called *consistency under coarse-graining*. \"The first term corresponds to the event 1 happening with probability $p_1$, and then we look at the event $p_2$ or $p_3$, while the second term looks into what happens for the event $p_2$ or $p_3$\". In the continous case, consider two regions $\\mathcal{R}_0,\\mathcal{R}_1$ and say a point ${\\bf x}$ belongs to either one or the other with probability $p(y=0)$ respectively $p(y=1)$, so being either in either region is a first event, with probability $p(y)$, once this happens, we look at the behaviour of ${\\bf x}$ within each region:\n",
    "\n",
    "$H(p({\\bf x})) = H(p(y)) + p(y=0)H(p({\\bf x}|y=0))+p(y=1)H(p({\\bf x}|y=1))$.\n",
    "\n",
    "This holds (write $p({\\bf x},y)$ ). This may be rewritten as $H(X)=H(Y)+H(X|Y)$"
   ]
  },
  {
   "cell_type": "markdown",
   "metadata": {
    "slideshow": {
     "slide_type": "slide"
    }
   },
   "source": [
    "Define an estimator for the uncertainty of the cluster label given a sample point:\n",
    "\n",
    "$\\hat{H}(Y|X) = H(Y)-H(X)+H(X|Y)$. \n",
    "\n",
    "* This estimated uncertainy about cluster labels should be as low as possible, which is equivalent to ask the coarse-graining to hold.\n",
    "\n",
    "* Nonparametric estimation of conditional entropy: $\\hat{H}_k(Y|X) = \\frac{d}{N}\\sum_{i=1}^N \\log \\frac{\\bar{\\epsilon}_{i,k}}{\\epsilon_{i,k}}$ \n",
    "\n",
    "* $\\epsilon^d_{i,k}$ denotes the distance to the $k$th nearest neighbour  of ${\\bf x}_i$ , $\\bar{\\epsilon}^d_{i,k}$ denotes the distance to the $k$th nearest neighbour of ${\\bf x}_i$  restricted to points in the same cluster as sample as ${\\bf x}_i$.\n",
    "\n",
    "* When each point’s $k$-nearest neighbors are within the same cluster, the coarse-grain consistency violation will be zero."
   ]
  },
  {
   "cell_type": "markdown",
   "metadata": {
    "slideshow": {
     "slide_type": "slide"
    }
   },
   "source": [
    "* clustering is about meaningfully grouping datapoints that belong together\n",
    "* $k$-means and its information theoretical interpretation\n",
    "* clustering as information theoretical distance among distributions\n",
    "* clustering as mutual information between datapoints and labels \n",
    "* commonalities: evaluation function, search algorithm, how many clusters? where to start? is the result good?\n",
    "* connections between centrality and clustering"
   ]
  },
  {
   "cell_type": "markdown",
   "metadata": {
    "slideshow": {
     "slide_type": "slide"
    }
   },
   "source": [
    "E. Gokcay, J. C. Principe, Information Theoretic Clustering, IEEE Transactions on Pattern Analysis and Machine Intelligence, 2002.\n",
    "\n",
    "G. Ver Steer, A. Galstyan, F. Sha, S. DeDeo, Demystifying Information-Theoretic Clustering, ICML'14 Proceedings of the 31st International Conference on International Conference on Machine Learning - Volume 32 "
   ]
  }
 ],
 "metadata": {
  "anaconda-cloud": {},
  "celltoolbar": "Slideshow",
  "kernelspec": {
   "display_name": "Python 3",
   "language": "python",
   "name": "python3"
  },
  "language_info": {
   "codemirror_mode": {
    "name": "ipython",
    "version": 3
   },
   "file_extension": ".py",
   "mimetype": "text/x-python",
   "name": "python",
   "nbconvert_exporter": "python",
   "pygments_lexer": "ipython3",
   "version": "3.6.8"
  }
 },
 "nbformat": 4,
 "nbformat_minor": 2
}
