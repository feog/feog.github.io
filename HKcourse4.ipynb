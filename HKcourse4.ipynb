{
 "cells": [
  {
   "cell_type": "markdown",
   "metadata": {
    "slideshow": {
     "slide_type": "notes"
    }
   },
   "source": [
    "jupyter nbconvert HKcourse4.ipynb --to slides --post serve"
   ]
  },
  {
   "cell_type": "markdown",
   "metadata": {
    "slideshow": {
     "slide_type": "slide"
    }
   },
   "source": [
    "# Some Facets of Information Theoretical Graph Analytics\n",
    "\n",
    "F. Oggier (School of Physical and Mathematical Sciences, NTU, Singapore) \n",
    "\n",
    "CSCIT 2019, CUHK"
   ]
  },
  {
   "cell_type": "markdown",
   "metadata": {
    "slideshow": {
     "slide_type": "slide"
    }
   },
   "source": [
    "###  Centralities and Entropic Centralities\n",
    "\n",
    "### Random Graphs and Power Law\n",
    "\n",
    "### Information Theoretic Clustering\n",
    "\n",
    "### A Case Study: Bitcoin Forensics"
   ]
  },
  {
   "cell_type": "markdown",
   "metadata": {
    "slideshow": {
     "slide_type": "slide"
    }
   },
   "source": [
    "## Information Theoretic Clustering\n",
    "### Graph Data"
   ]
  },
  {
   "cell_type": "markdown",
   "metadata": {
    "slideshow": {
     "slide_type": "slide"
    }
   },
   "source": [
    "For clustering general data, we saw data points in $\\mathbb{R}^d$. Can't we do the same things for a graph (a simple graph $G=(V,E)$)?"
   ]
  },
  {
   "cell_type": "markdown",
   "metadata": {
    "slideshow": {
     "slide_type": "fragment"
    }
   },
   "source": [
    "To do clustering in $\\mathbb{R}^d$, we typically use the Euclidean distance, or at least *some distance*.\n",
    "\n",
    "<div style=\"background-color:rgba(128, 0, 0, 0.1); text-align:left; vertical-align: middle; padding:20px 0;\">\n",
    "<ol>\n",
    "<li> non-negativity: $d(x,y) \\geq 0$.  </li> \n",
    "<li> identity of indiscernibles: $d(x,y)=0 \\iff x=y$.    </li>\n",
    "<li> symmetry: $d(x,y) = d(y,x)$. </li>\n",
    "<li> The triangle inequality holds: $d(x,z)\\leq d(x,y)+d(y,z)$.</li>\n",
    "</ol>\n",
    "</div>\n",
    "\n",
    "If 2. is removed, we speak of pseudo-metrics/distance. If 3. is removed, we speak of quasi-metrics/distance."
   ]
  },
  {
   "cell_type": "markdown",
   "metadata": {
    "slideshow": {
     "slide_type": "slide"
    }
   },
   "source": [
    "Given an undirected (connected) graph, the length of a shortest path between two nodes is an actual distance. \n",
    "So if we could map any vertex $v\\in V$ to a point ${\\bf x}_v\\in\\mathbb{R}^d$, so that the length of a shortest path between $u,v$ is the same as $||{\\bf x}_u-{\\bf x}_v||^2$, then we could just embed $G$ into $\\mathbb{R}^d$ and cluster the graph there.\n",
    "\n",
    "This is called an **isometric graph embedding**. \n",
    "\n",
    "This certainly is not possible all the time (Deza and Laurent, \"Geometry of Cuts and Metrics\")."
   ]
  },
  {
   "cell_type": "markdown",
   "metadata": {
    "slideshow": {
     "slide_type": "slide"
    }
   },
   "source": [
    "The problem becomes more interesting if we allow a distorsion.\n",
    "\n",
    "<div style=\"background-color:rgba(128, 0, 0, 0.1); text-align:left; vertical-align: middle; padding:20px 0;\">\n",
    "Given these two metric spaces $(V,\\rho)$ and $(\\mathbb{R}^d,l_2)$, \n",
    "a function $f:V \\rightarrow \\mathbb{R}^d$ is called a $D$-embedding if \n",
    "for all $u,v \\in V$, \n",
    "$r \\rho(u,v) \\leq ||f(u)-f(v)|| \\leq D r \\rho(u,v)$\n",
    "where $r >0$ is a scaling factor. \n",
    "</div>\n",
    "\n",
    "(Bourgain 85) Every $N$-point metric space $(X,\\rho)$ (and thus in particular a graph with $N$ vertices) can be embedded into a Euclidean space with norm $l_2$ (the original work used the $l_1$ norm) with a distorsion of $O(\\log N)$. This distorsion is known to be tight, since some expander graphs are reaching it. \n",
    "\n",
    "* Many works to refine the embbeding and to find the lowest dimension $d$ (Matousek, \"Lectures on Discrete Geometry\").\n",
    "\n",
    "* Johnson-Lindenstrauss Lemma for dimensionality reduction."
   ]
  },
  {
   "cell_type": "markdown",
   "metadata": {
    "slideshow": {
     "slide_type": "slide"
    }
   },
   "source": [
    "A computational embedding can be obtained using semidefinite programming: \n",
    "\n",
    "<div style=\"background-color:rgba(128, 0, 0, 0.1); text-align:left; vertical-align: middle; padding:20px 0;\">\n",
    "\\begin{eqnarray*}\n",
    "\\min & {\\rm tr}(CX) \\\\\n",
    "s.t. & {\\rm tr}(A_iX) \\leq b_i,~i=1,\\ldots,m \\\\\n",
    "     & X \\succeq {\\bf 0}\n",
    "\\end{eqnarray*}\n",
    "where $X,C,A_i$ are all symmetric $N\\times N$ matrices and $X \\succeq {\\bf 0}$ means that $X$ is positive semidefinite (that is, satisfies that ${\\bf a}^TX{\\bf a} \\geq 0$ for any column vector ${\\bf a}$).\n",
    "</div>\n",
    "\n",
    "Consider the $N\\times N$ matrix $F$ whose columns are the embeddings $f(v_1),\\ldots,f(v_N)$. Then\n",
    "$X=F^TF$ has coefficients $x_{ij}=\\langle f(v_i),f(v_j)\\rangle$ and is positive semidefinite. To have a $D$-embedding into $\\mathbb{R}^N$, we need for all $v_i,v_j\\in V$:\n",
    "\\begin{eqnarray*}\n",
    "&& \\rho(v_i,v_j)^2 \\leq ||f(v_i)-f(v_j)||^2 \\leq D^2 \\rho(v_i,v_j)^2 \\\\\n",
    "&\\iff& \\rho(v_i,v_j)^2 \\leq x_{ii}+x_{jj}-2x_{ij} \\leq D^2 \\rho(v_i,v_j)^2.\n",
    "\\end{eqnarray*}\n",
    "Therefore, for ${\\bf d}$ a vector of norm $D$, that is such that $\\langle {\\bf d},{\\bf d} \\rangle =D^2$, we can formulate the problem of finding a $D$-embedding into $\\mathbb{R}^N$ which minimizes $D$ as the following semidefinite program:\n",
    "\\begin{eqnarray*}\n",
    "\\min & \\langle {\\bf d},{\\bf d} \\rangle \\\\\n",
    "s.t. & \\rho(v_i,v_j)^2 \\leq x_{ii}+x_{jj}-2x_{ij} \\leq D^2 \\rho(v_i,v_j)^2,~\\forall i,j.\n",
    "\\end{eqnarray*}\n",
    "\n",
    "This program optimizes $D$ given the dimension $N$ (therefore a higher dimensional embedding could give a smaller distorsion). "
   ]
  },
  {
   "cell_type": "code",
   "execution_count": 5,
   "metadata": {
    "slideshow": {
     "slide_type": "slide"
    }
   },
   "outputs": [
    {
     "name": "stdout",
     "output_type": "stream",
     "text": [
      "[[0 1 2]\n",
      " [1 0 1]\n",
      " [2 1 0]]\n"
     ]
    },
    {
     "data": {
      "image/png": "[encoded data removed]",
      "text/plain": [
       "<Figure size 216x216 with 1 Axes>"
      ]
     },
     "metadata": {},
     "output_type": "display_data"
    }
   ],
   "source": [
    "import networkx as nx\n",
    "import matplotlib.pyplot as plt\n",
    "import numpy as np\n",
    "\n",
    "G = nx.Graph()\n",
    "G.add_edges_from([(0,1),(1,2)])\n",
    "all_paths = [x[1] for x in nx.all_pairs_shortest_path(G)]\n",
    "N = G.order()\n",
    "dist_list = []\n",
    "for i in range(N):\n",
    "    dist_list.append([len(all_paths[i][u])-1 for u in G.nodes()])\n",
    "dist = np.matrix(dist_list)\n",
    "print(dist)\n",
    "fig = plt.figure(figsize=(3,3))\n",
    "nx.draw(G,with_labels=\"true\")\n",
    "plt.show()"
   ]
  },
  {
   "cell_type": "code",
   "execution_count": 6,
   "metadata": {
    "slideshow": {
     "slide_type": "slide"
    }
   },
   "outputs": [],
   "source": [
    "import cvxpy as cp, scipy.linalg\n",
    "def embed_graph(N,dist):\n",
    "    n = N+1\n",
    "    C = np.zeros((n, n)) # Generate the objective function.\n",
    "    C[n-1,n-1] = 1\n",
    "    A = [] #Generate the constraints\n",
    "    b = []\n",
    "    for i in range(0,N):\n",
    "        for j in range(i+1,N):\n",
    "            M = np.zeros((n,n))\n",
    "            M[i,i] = 1\n",
    "            M[j,j] = 1\n",
    "            M[i,j] = -1\n",
    "            M[j,i] = -1\n",
    "            A.append(M)\n",
    "            b.append(dist[i,j]**2)\n",
    "    for i in range(0,N):\n",
    "        for j in range(i+1,N):\n",
    "            M = np.zeros((n,n))\n",
    "            M[i,i] = 1\n",
    "            M[j,j] = 1\n",
    "            M[i,j] = -1\n",
    "            M[j,i] = -1\n",
    "            M[N,N] = -dist[i,j]**2\n",
    "            A.append(M)\n",
    "            b.append(0.0)\n",
    "    X = cp.Variable((n,n), symmetric=True)\n",
    "    constraints = [X >> 0]\n",
    "    constraints += [cp.trace(A[i]@X) >= b[i] for i in range(int(N*(N-1)/2))]\n",
    "    constraints += [cp.trace(A[i]@X) <= b[i] for i in range(int(N*(N-1)/2),N*(N-1))]\n",
    "    prob = cp.Problem(cp.Minimize(cp.trace(C@X)),constraints)\n",
    "    L = np.linalg.cholesky(X.value)\n",
    "    return(prob.value,L)"
   ]
  },
  {
   "cell_type": "code",
   "execution_count": 10,
   "metadata": {
    "slideshow": {
     "slide_type": "slide"
    }
   },
   "outputs": [
    {
     "name": "stdout",
     "output_type": "stream",
     "text": [
      "1.000000000002172\n",
      "[[ 1.00000023e+00  0.00000000e+00  0.00000000e+00  0.00000000e+00]\n",
      " [ 4.56290903e-07  6.75500220e-04  0.00000000e+00  0.00000000e+00]\n",
      " [-9.99999316e-01  1.35097158e-03  9.05137303e-06  0.00000000e+00]\n",
      " [ 0.00000000e+00  0.00000000e+00  0.00000000e+00  1.00000000e+00]]\n"
     ]
    },
    {
     "data": {
      "text/plain": [
       "array([[0., 1., 2.],\n",
       "       [1., 0., 1.],\n",
       "       [2., 1., 0.]])"
      ]
     },
     "execution_count": 10,
     "metadata": {},
     "output_type": "execute_result"
    }
   ],
   "source": [
    "(D,L) = embed_graph(N,dist)\n",
    "dist_l2 = np.zeros((N,N))\n",
    "for i in range(N):\n",
    "    for j in range(N):\n",
    "        dist_l2[i,j] = np.linalg.norm(L[i,:]-L[j,:])\n",
    "print(D)\n",
    "print(L)\n",
    "dist_l2"
   ]
  },
  {
   "cell_type": "markdown",
   "metadata": {
    "slideshow": {
     "slide_type": "slide"
    }
   },
   "source": [
    "* So graphs typically cannot be embedded isometrically.\n",
    "\n",
    "* $k$-means"
   ]
  },
  {
   "cell_type": "markdown",
   "metadata": {
    "slideshow": {
     "slide_type": "slide"
    }
   },
   "source": [
    "* Let us try to apply the Renyi entropy based clustering algorithm on graph data .\n",
    "\n",
    "1. Choose $C$ nodes uniformly at random, assign one label to each.\n",
    "2. While some nodes are still unlabelled, for every cluster, find its neighbours.\n",
    "3. If there are unlabelled neighbours or labelled neighbours with a worse distance to another cluster, add the neighbour whose addition minimizes the within-cluster evaluation function $\\hat{H}_{\\sigma^2}$."
   ]
  },
  {
   "cell_type": "markdown",
   "metadata": {
    "slideshow": {
     "slide_type": "slide"
    }
   },
   "source": [
    "![](209-emb2.png)"
   ]
  },
  {
   "cell_type": "markdown",
   "metadata": {
    "slideshow": {
     "slide_type": "slide"
    }
   },
   "source": [
    "![](4k-2.png)"
   ]
  },
  {
   "cell_type": "markdown",
   "metadata": {
    "slideshow": {
     "slide_type": "slide"
    }
   },
   "source": [
    "<div style=\"background-color:rgba(128, 0, 0, 0.1); text-align:left; vertical-align: middle; padding:20px 0;\">\n",
    "<b>Edge betweenness</b>: the betweenness of $e$ is the sum of the fraction of all-pairs shortest paths that pass through $e$. \n",
    "</div>    \n",
    "\n",
    "The idea is that if a network contains clusters connected by a few edges, then all shortest paths between them must go along one of these few edges (and they are likely to have high edge betweenness). Removing these edges reveal the clusters. \n",
    "\n",
    "Girvan–Newman (02):\n",
    "\n",
    "1. The betweenness of all existing edges is calculated.\n",
    "2. The edge with the highest betweenness is removed.\n",
    "3. The betweenness of all edges affected by the removal is recalculated.\n",
    "4. Steps 2 and 3 are repeated until no edges remain."
   ]
  },
  {
   "cell_type": "markdown",
   "metadata": {
    "slideshow": {
     "slide_type": "slide"
    }
   },
   "source": [
    "Let $C=\\cup C_i$ be the correct partition of the nodes, and $C' = \\cup C'_j$ be another clustering. For every $C_i \\in C$, compute the set $P_2(C_i)$ of all subsets of two elements of $C_i$, and similarly the set $P_2(C'_j)$ of all subsets of two elements of $C'_j$. Then for $P = \\cup P_2(C_i)$ and $P' = \\cup P_2(C'_j)$:\n",
    "<div style=\"background-color:rgba(128, 0, 0, 0.1); text-align:left; vertical-align: middle; padding:20px 0;\">\n",
    "the <b>F-score</b> of $C'$ with respect to $C$ is defined by\n",
    "$\\frac{2|P\\cap P'|}{2|P\\cap P'|+|P- P'|+|P'- P|}$.\n",
    "</div>    \n",
    "\n",
    "An $F$-score of 1 means a perfect match. The closer to 1, the best an $F$-score is.\n"
   ]
  },
  {
   "cell_type": "markdown",
   "metadata": {
    "slideshow": {
     "slide_type": "slide"
    }
   },
   "source": [
    "**Modularity** (Newman 04,06) \n",
    "\n",
    "Given a clustering, modularity measures the number of edges that lie within a cluster compared to the expected number of edges of a  random  graph  with  the  same  degree  distribution (random  graphs  are  not  expected  to  have *community*  structure).  \n",
    "\n",
    "<div style=\"background-color:rgba(128, 0, 0, 0.1); text-align:left; vertical-align: middle; padding:20px 0;\">\n",
    "$    \n",
    "\\frac{1}{2|E|}\\sum_{i,j}[A_{ij}−\\frac{k_ik_j}{2|E|}\\delta(c_i,c_j)]\n",
    "$\n",
    "</div>    \n",
    "where $A$ is the adjacency matrix (the graph is unweighted), $\\delta(c_i,c_j) = 1$ if nodes $i,j$ belong to the same community and 0 otherwise. It can be either positive or negative. Higher positive values indicate better community structure properties."
   ]
  },
  {
   "cell_type": "markdown",
   "metadata": {
    "slideshow": {
     "slide_type": "slide"
    }
   },
   "source": [
    "**Louvain** (Blondel 08): Find the clustering that maximizes the modularity. "
   ]
  },
  {
   "cell_type": "code",
   "execution_count": 29,
   "metadata": {
    "slideshow": {
     "slide_type": "fragment"
    }
   },
   "outputs": [
    {
     "data": {
      "image/png": "[encoded data removed]",
      "text/plain": [
       "<Figure size 432x288 with 1 Axes>"
      ]
     },
     "metadata": {},
     "output_type": "display_data"
    }
   ],
   "source": [
    "#pip install python-louvain, https://python-louvain.readthedocs.io/en/latest/\n",
    "import community\n",
    "Gdolph = nx.read_gml('dolphins.gml', label = 'id')\n",
    "partition = community.best_partition(Gdolph)\n",
    "part_label = [partition[u] for u in partition]\n",
    "val_map = {}\n",
    "for k in range(0,Gdolph.order()):\n",
    "    val_map[k] = part_label[k]\n",
    "values = [val_map.get(node, 0) for node in Gdolph.nodes()]\n",
    "nx.draw(Gdolph,cmap=plt.get_cmap('rainbow'), node_color=values,node_size=60)\n",
    "plt.show()"
   ]
  },
  {
   "cell_type": "markdown",
   "metadata": {
    "slideshow": {
     "slide_type": "slide"
    }
   },
   "source": [
    "What happens if the graph is directed?\n",
    "\n",
    "* treat the graph as undirected? encode directionality in weights? bipartite graphs?\n",
    "* embedding poses the problem of *distance*, which distance?\n",
    "* extend clustering evaluation functions?\n",
    "\n",
    "<div style=\"background-color:rgba(128, 0, 0, 0.1); text-align:left; vertical-align: middle; padding:20px 0;\">\n",
    "$    \n",
    "\\frac{1}{|E|}\\sum_{i,j}[A_{ij}−\\frac{k_i^{out}k_j^{in}}{2|E|}\\delta(c_i,c_j)].\n",
    "$\n",
    "</div>    "
   ]
  },
  {
   "cell_type": "markdown",
   "metadata": {
    "slideshow": {
     "slide_type": "slide"
    }
   },
   "source": [
    "* citation-based clusters\n",
    "\n",
    "* flow-based clusters"
   ]
  },
  {
   "cell_type": "markdown",
   "metadata": {
    "slideshow": {
     "slide_type": "slide"
    }
   },
   "source": [
    "* Yamada, Saito, Ueda, Cross-Entropy Directed Embedding of Network Data, 03.\n",
    "\n",
    "Rosvall and Bergstrom (08)\n",
    "\n",
    "* use random walks to describe information flow in the network. \n",
    "* extract the clusters by compressing the description of the random walk.  \n",
    "* in a cluster, the random walk can be compressed better.\n",
    "\n",
    "This becomes a coding problem: select a clustering of the nodes, which minimizes the description length of the random walk."
   ]
  },
  {
   "cell_type": "markdown",
   "metadata": {
    "slideshow": {
     "slide_type": "slide"
    }
   },
   "source": [
    "* Each node is given a Huffman codeword based on the visiting frequency of the  random  walk (in an infinitely long walk): shorter codewords  are  assigned  to  more  frequently  visited nodes.\n",
    "\n",
    "* The interest is not in the codewords themselves but rather in the theoretical limit of how concisely we can specify the path.\n",
    "\n",
    "* The random walk trajectory is described by a two-level description: unique names (codewords) are assigned to the clusters (coarse-grain), while the codewords for nodes inside a cluster are reused (fine-grain).  \n",
    "\n",
    "* Analogy with a geographic map:  unique names are assigned to cities (clusters), while names for the streets (nodes) can be reused.  \n",
    "\n",
    "* When the random walker enters a cluster, use the codeword for this cluster, then use use codewords within, and then an exit code when going out of the cluster.\n",
    "\n",
    "* The clustering problem becomes finding the partition that results in the minimum description code length (minimize a sum of two terms, the entropy of moving between clusters, and the sum of the entropies of moving within each)."
   ]
  },
  {
   "cell_type": "markdown",
   "metadata": {
    "slideshow": {
     "slide_type": "slide"
    }
   },
   "source": [
    "Schaeffer, Graph clustering, Computer Science Review \n",
    "\n",
    "Malliarosa and Vazirgiannis, Clustering and Community Detection in Directed Networks:A Survey\n",
    "\n",
    "Oggier, Phetsouvanh, Datta, Entropy-based Graph Clustering - A Simulated Annealing Approach, ISITA 2018"
   ]
  }
 ],
 "metadata": {
  "celltoolbar": "Slideshow",
  "kernelspec": {
   "display_name": "Python 3",
   "language": "python",
   "name": "python3"
  },
  "language_info": {
   "codemirror_mode": {
    "name": "ipython",
    "version": 3
   },
   "file_extension": ".py",
   "mimetype": "text/x-python",
   "name": "python",
   "nbconvert_exporter": "python",
   "pygments_lexer": "ipython3",
   "version": "3.6.8"
  }
 },
 "nbformat": 4,
 "nbformat_minor": 2
}
